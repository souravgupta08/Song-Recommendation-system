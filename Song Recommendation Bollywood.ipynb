{
 "cells": [
  {
   "cell_type": "code",
   "execution_count": 1,
   "id": "0421d001",
   "metadata": {},
   "outputs": [
    {
     "name": "stdout",
     "output_type": "stream",
     "text": [
      "Defaulting to user installation because normal site-packages is not writeable\n",
      "Requirement already satisfied: nltk in c:\\anaconda3\\lib\\site-packages (3.7)\n",
      "Requirement already satisfied: chardet in c:\\anaconda3\\lib\\site-packages (4.0.0)\n",
      "Requirement already satisfied: tqdm in c:\\anaconda3\\lib\\site-packages (from nltk) (4.64.1)\n",
      "Requirement already satisfied: joblib in c:\\anaconda3\\lib\\site-packages (from nltk) (1.1.1)\n",
      "Requirement already satisfied: regex>=2021.8.3 in c:\\anaconda3\\lib\\site-packages (from nltk) (2022.7.9)\n",
      "Requirement already satisfied: click in c:\\anaconda3\\lib\\site-packages (from nltk) (8.0.4)\n",
      "Requirement already satisfied: colorama in c:\\anaconda3\\lib\\site-packages (from click->nltk) (0.4.6)\n",
      "Note: you may need to restart the kernel to use updated packages.\n"
     ]
    }
   ],
   "source": [
    "pip install nltk chardet\n"
   ]
  },
  {
   "cell_type": "code",
   "execution_count": 2,
   "id": "73145dd6",
   "metadata": {},
   "outputs": [],
   "source": [
    "import numpy as np \n",
    "import pandas as pd\n",
    "from sklearn.preprocessing import LabelEncoder\n",
    "from sklearn.preprocessing import StandardScaler\n",
    "from sklearn.metrics.pairwise import cosine_similarity\n",
    "import pickle\n",
    "import nltk\n",
    "import chardet\n",
    "from nltk.stem.porter import PorterStemmer\n",
    "from sklearn.feature_extraction.text import CountVectorizer\n",
    "from function import preprocess"
   ]
  },
  {
   "cell_type": "code",
   "execution_count": 3,
   "id": "ae708e09",
   "metadata": {},
   "outputs": [
    {
     "data": {
      "text/plain": [
       "'Windows-1252'"
      ]
     },
     "execution_count": 3,
     "metadata": {},
     "output_type": "execute_result"
    }
   ],
   "source": [
    "enc=preprocess.print_encoding('ex.csv')\n",
    "enc"
   ]
  },
  {
   "cell_type": "code",
   "execution_count": 4,
   "id": "dccc4709",
   "metadata": {},
   "outputs": [
    {
     "name": "stdout",
     "output_type": "stream",
     "text": [
      "(2420, 5)\n"
     ]
    },
    {
     "data": {
      "text/html": [
       "<div>\n",
       "<style scoped>\n",
       "    .dataframe tbody tr th:only-of-type {\n",
       "        vertical-align: middle;\n",
       "    }\n",
       "\n",
       "    .dataframe tbody tr th {\n",
       "        vertical-align: top;\n",
       "    }\n",
       "\n",
       "    .dataframe thead th {\n",
       "        text-align: right;\n",
       "    }\n",
       "</style>\n",
       "<table border=\"1\" class=\"dataframe\">\n",
       "  <thead>\n",
       "    <tr style=\"text-align: right;\">\n",
       "      <th></th>\n",
       "      <th>Song-Name</th>\n",
       "      <th>Singer/Artists</th>\n",
       "      <th>Genre</th>\n",
       "      <th>Album/Movie</th>\n",
       "      <th>User-Rating</th>\n",
       "    </tr>\n",
       "  </thead>\n",
       "  <tbody>\n",
       "    <tr>\n",
       "      <th>2123</th>\n",
       "      <td>Jai Govinda Jai Gopala</td>\n",
       "      <td>Neeraj Shridhar</td>\n",
       "      <td>BollywoodDance</td>\n",
       "      <td>Bullett Raja</td>\n",
       "      <td>9.3/10</td>\n",
       "    </tr>\n",
       "    <tr>\n",
       "      <th>1307</th>\n",
       "      <td>Saawli Saloni Teri</td>\n",
       "      <td>Alka Yagnik, Kumar Sanu</td>\n",
       "      <td>BollywoodRomantic</td>\n",
       "      <td>Hum Sub Chor Hain</td>\n",
       "      <td>8.7/10</td>\n",
       "    </tr>\n",
       "    <tr>\n",
       "      <th>1359</th>\n",
       "      <td>Gori Ka Sajan, Sajan Ki Gori</td>\n",
       "      <td>Mohammad Aziz, S. Janaki</td>\n",
       "      <td>BollywoodDance</td>\n",
       "      <td>Aakhree Raasta</td>\n",
       "      <td>8.6/10</td>\n",
       "    </tr>\n",
       "    <tr>\n",
       "      <th>500</th>\n",
       "      <td>Nazar Se Nazar Mile</td>\n",
       "      <td>Rahat Fateh Ali Khan</td>\n",
       "      <td>BollywoodRomantic</td>\n",
       "      <td>Bollywood HeightsMiley Naa Miley Hum</td>\n",
       "      <td>9.2/10</td>\n",
       "    </tr>\n",
       "  </tbody>\n",
       "</table>\n",
       "</div>"
      ],
      "text/plain": [
       "                         Song-Name            Singer/Artists  \\\n",
       "2123        Jai Govinda Jai Gopala           Neeraj Shridhar   \n",
       "1307            Saawli Saloni Teri   Alka Yagnik, Kumar Sanu   \n",
       "1359  Gori Ka Sajan, Sajan Ki Gori  Mohammad Aziz, S. Janaki   \n",
       "500            Nazar Se Nazar Mile      Rahat Fateh Ali Khan   \n",
       "\n",
       "                  Genre                           Album/Movie User-Rating  \n",
       "2123     BollywoodDance                          Bullett Raja      9.3/10  \n",
       "1307  BollywoodRomantic                     Hum Sub Chor Hain      8.7/10  \n",
       "1359     BollywoodDance                        Aakhree Raasta      8.6/10  \n",
       "500   BollywoodRomantic  Bollywood HeightsMiley Naa Miley Hum      9.2/10  "
      ]
     },
     "execution_count": 4,
     "metadata": {},
     "output_type": "execute_result"
    }
   ],
   "source": [
    "df=pd.read_csv('ex.csv',encoding='Windows-1252')\n",
    "print(df.shape)\n",
    "df.sample(4)"
   ]
  },
  {
   "cell_type": "code",
   "execution_count": 5,
   "id": "bb08f043",
   "metadata": {},
   "outputs": [
    {
     "data": {
      "text/plain": [
       "Song-Name         0.000000\n",
       "Singer/Artists    0.004132\n",
       "Genre             0.000000\n",
       "Album/Movie       0.001240\n",
       "User-Rating       0.000000\n",
       "dtype: float64"
      ]
     },
     "execution_count": 5,
     "metadata": {},
     "output_type": "execute_result"
    }
   ],
   "source": [
    "df.isnull().mean()"
   ]
  },
  {
   "cell_type": "code",
   "execution_count": 6,
   "id": "ddefe865",
   "metadata": {},
   "outputs": [
    {
     "name": "stdout",
     "output_type": "stream",
     "text": [
      "(2407, 5)\n"
     ]
    },
    {
     "data": {
      "text/html": [
       "<div>\n",
       "<style scoped>\n",
       "    .dataframe tbody tr th:only-of-type {\n",
       "        vertical-align: middle;\n",
       "    }\n",
       "\n",
       "    .dataframe tbody tr th {\n",
       "        vertical-align: top;\n",
       "    }\n",
       "\n",
       "    .dataframe thead th {\n",
       "        text-align: right;\n",
       "    }\n",
       "</style>\n",
       "<table border=\"1\" class=\"dataframe\">\n",
       "  <thead>\n",
       "    <tr style=\"text-align: right;\">\n",
       "      <th></th>\n",
       "      <th>Song-Name</th>\n",
       "      <th>Singer/Artists</th>\n",
       "      <th>Genre</th>\n",
       "      <th>Album/Movie</th>\n",
       "      <th>User-Rating</th>\n",
       "    </tr>\n",
       "  </thead>\n",
       "  <tbody>\n",
       "    <tr>\n",
       "      <th>117</th>\n",
       "      <td>Selfish</td>\n",
       "      <td>Atif Aslam, Iulia Vantur</td>\n",
       "      <td>BollywoodRomantic</td>\n",
       "      <td>Race 3</td>\n",
       "      <td>6.8/10</td>\n",
       "    </tr>\n",
       "    <tr>\n",
       "      <th>1277</th>\n",
       "      <td>Mere Rang Mein Rangne Wali</td>\n",
       "      <td>Asad Bhopali, S.P. Balasubrahmanyam</td>\n",
       "      <td>BollywoodRomantic</td>\n",
       "      <td>Maine Pyar Kiya</td>\n",
       "      <td>8.9/10</td>\n",
       "    </tr>\n",
       "    <tr>\n",
       "      <th>1334</th>\n",
       "      <td>Baatein Ye Kabhi Na (Female)</td>\n",
       "      <td>Palak Muchhal</td>\n",
       "      <td>BollywoodRomantic</td>\n",
       "      <td>Khamoshiyan</td>\n",
       "      <td>9.5/10</td>\n",
       "    </tr>\n",
       "    <tr>\n",
       "      <th>2214</th>\n",
       "      <td>Dil Ka Qaraar</td>\n",
       "      <td>Shraddha Pandit, Sonu Nigam</td>\n",
       "      <td>BollywoodRomantic</td>\n",
       "      <td>Sangharsh</td>\n",
       "      <td>9.3/10</td>\n",
       "    </tr>\n",
       "  </tbody>\n",
       "</table>\n",
       "</div>"
      ],
      "text/plain": [
       "                         Song-Name                       Singer/Artists  \\\n",
       "117                        Selfish             Atif Aslam, Iulia Vantur   \n",
       "1277    Mere Rang Mein Rangne Wali  Asad Bhopali, S.P. Balasubrahmanyam   \n",
       "1334  Baatein Ye Kabhi Na (Female)                        Palak Muchhal   \n",
       "2214                 Dil Ka Qaraar          Shraddha Pandit, Sonu Nigam   \n",
       "\n",
       "                  Genre      Album/Movie User-Rating  \n",
       "117   BollywoodRomantic           Race 3      6.8/10  \n",
       "1277  BollywoodRomantic  Maine Pyar Kiya      8.9/10  \n",
       "1334  BollywoodRomantic      Khamoshiyan      9.5/10  \n",
       "2214  BollywoodRomantic        Sangharsh      9.3/10  "
      ]
     },
     "execution_count": 6,
     "metadata": {},
     "output_type": "execute_result"
    }
   ],
   "source": [
    "df.dropna(inplace=True)\n",
    "print(df.shape)\n",
    "df.sample(4)"
   ]
  },
  {
   "cell_type": "code",
   "execution_count": 7,
   "id": "9bc38a70",
   "metadata": {},
   "outputs": [],
   "source": [
    "df['Singer/Artists']=df['Singer/Artists'].apply(preprocess.convert)\n",
    "df['Genre']=df['Genre'].apply(preprocess.convert)\n",
    "df['Album/Movie']=df['Album/Movie'].apply(preprocess.convert)"
   ]
  },
  {
   "cell_type": "code",
   "execution_count": 8,
   "id": "f9d4ce33",
   "metadata": {},
   "outputs": [
    {
     "data": {
      "text/html": [
       "<div>\n",
       "<style scoped>\n",
       "    .dataframe tbody tr th:only-of-type {\n",
       "        vertical-align: middle;\n",
       "    }\n",
       "\n",
       "    .dataframe tbody tr th {\n",
       "        vertical-align: top;\n",
       "    }\n",
       "\n",
       "    .dataframe thead th {\n",
       "        text-align: right;\n",
       "    }\n",
       "</style>\n",
       "<table border=\"1\" class=\"dataframe\">\n",
       "  <thead>\n",
       "    <tr style=\"text-align: right;\">\n",
       "      <th></th>\n",
       "      <th>Song-Name</th>\n",
       "      <th>Singer/Artists</th>\n",
       "      <th>Genre</th>\n",
       "      <th>Album/Movie</th>\n",
       "      <th>User-Rating</th>\n",
       "    </tr>\n",
       "  </thead>\n",
       "  <tbody>\n",
       "    <tr>\n",
       "      <th>1513</th>\n",
       "      <td>Hum To Tere Aashiq Hain</td>\n",
       "      <td>[LataMangeshkar, Mukesh]</td>\n",
       "      <td>[BollywoodRomantic]</td>\n",
       "      <td>[Farz]</td>\n",
       "      <td>8.4/10</td>\n",
       "    </tr>\n",
       "    <tr>\n",
       "      <th>1053</th>\n",
       "      <td>Koi Ladki Hai</td>\n",
       "      <td>[LataMangeshkar, UditNarayan]</td>\n",
       "      <td>[BollywoodDance]</td>\n",
       "      <td>[DilToPagalHai]</td>\n",
       "      <td>8.9/10</td>\n",
       "    </tr>\n",
       "    <tr>\n",
       "      <th>1207</th>\n",
       "      <td>Bhanware Ne Khilaya Phool</td>\n",
       "      <td>[LataMangeshkar, SureshWadkar]</td>\n",
       "      <td>[BollywoodDance]</td>\n",
       "      <td>[PremRog]</td>\n",
       "      <td>7.5/10</td>\n",
       "    </tr>\n",
       "    <tr>\n",
       "      <th>1537</th>\n",
       "      <td>Har Dil Jo Pyar Karega</td>\n",
       "      <td>[LataMangeshkar, MahendraKapoor, Mukesh]</td>\n",
       "      <td>[BollywoodDance]</td>\n",
       "      <td>[Sangam]</td>\n",
       "      <td>8.7/10</td>\n",
       "    </tr>\n",
       "  </tbody>\n",
       "</table>\n",
       "</div>"
      ],
      "text/plain": [
       "                      Song-Name                            Singer/Artists  \\\n",
       "1513    Hum To Tere Aashiq Hain                  [LataMangeshkar, Mukesh]   \n",
       "1053              Koi Ladki Hai             [LataMangeshkar, UditNarayan]   \n",
       "1207  Bhanware Ne Khilaya Phool            [LataMangeshkar, SureshWadkar]   \n",
       "1537     Har Dil Jo Pyar Karega  [LataMangeshkar, MahendraKapoor, Mukesh]   \n",
       "\n",
       "                    Genre      Album/Movie User-Rating  \n",
       "1513  [BollywoodRomantic]           [Farz]      8.4/10  \n",
       "1053     [BollywoodDance]  [DilToPagalHai]      8.9/10  \n",
       "1207     [BollywoodDance]        [PremRog]      7.5/10  \n",
       "1537     [BollywoodDance]         [Sangam]      8.7/10  "
      ]
     },
     "execution_count": 8,
     "metadata": {},
     "output_type": "execute_result"
    }
   ],
   "source": [
    "df.sample(4)"
   ]
  },
  {
   "cell_type": "code",
   "execution_count": 9,
   "id": "2bcdb477",
   "metadata": {},
   "outputs": [],
   "source": [
    "df['User-Rating']=df['User-Rating'].apply(preprocess.convert2)"
   ]
  },
  {
   "cell_type": "code",
   "execution_count": 10,
   "id": "dd65586d",
   "metadata": {},
   "outputs": [
    {
     "data": {
      "text/html": [
       "<div>\n",
       "<style scoped>\n",
       "    .dataframe tbody tr th:only-of-type {\n",
       "        vertical-align: middle;\n",
       "    }\n",
       "\n",
       "    .dataframe tbody tr th {\n",
       "        vertical-align: top;\n",
       "    }\n",
       "\n",
       "    .dataframe thead th {\n",
       "        text-align: right;\n",
       "    }\n",
       "</style>\n",
       "<table border=\"1\" class=\"dataframe\">\n",
       "  <thead>\n",
       "    <tr style=\"text-align: right;\">\n",
       "      <th></th>\n",
       "      <th>Song-Name</th>\n",
       "      <th>Singer/Artists</th>\n",
       "      <th>Genre</th>\n",
       "      <th>Album/Movie</th>\n",
       "      <th>User-Rating</th>\n",
       "    </tr>\n",
       "  </thead>\n",
       "  <tbody>\n",
       "    <tr>\n",
       "      <th>1448</th>\n",
       "      <td>Satarangi Re</td>\n",
       "      <td>[KavitaKrishnamurthy, SonuNigam]</td>\n",
       "      <td>[BollywoodDance]</td>\n",
       "      <td>[DilSe]</td>\n",
       "      <td>[9.4]</td>\n",
       "    </tr>\n",
       "    <tr>\n",
       "      <th>693</th>\n",
       "      <td>Behka</td>\n",
       "      <td>[VibhaSaraf]</td>\n",
       "      <td>[BollywoodDance]</td>\n",
       "      <td>[HighJack]</td>\n",
       "      <td>[9.5]</td>\n",
       "    </tr>\n",
       "    <tr>\n",
       "      <th>315</th>\n",
       "      <td>Ki Kariye Nachna Aaonda Nahin</td>\n",
       "      <td>[HardySandhu, NehaKakkar, Raftaar]</td>\n",
       "      <td>[BollywoodDance]</td>\n",
       "      <td>[TumBin2]</td>\n",
       "      <td>[9.0]</td>\n",
       "    </tr>\n",
       "    <tr>\n",
       "      <th>1443</th>\n",
       "      <td>Laal Ishq</td>\n",
       "      <td>[ArijitSingh]</td>\n",
       "      <td>[BollywoodSad]</td>\n",
       "      <td>[GoliyonKiRasleelaRam-leela]</td>\n",
       "      <td>[9.5]</td>\n",
       "    </tr>\n",
       "  </tbody>\n",
       "</table>\n",
       "</div>"
      ],
      "text/plain": [
       "                          Song-Name                      Singer/Artists  \\\n",
       "1448                   Satarangi Re    [KavitaKrishnamurthy, SonuNigam]   \n",
       "693                           Behka                        [VibhaSaraf]   \n",
       "315   Ki Kariye Nachna Aaonda Nahin  [HardySandhu, NehaKakkar, Raftaar]   \n",
       "1443                      Laal Ishq                       [ArijitSingh]   \n",
       "\n",
       "                 Genre                   Album/Movie User-Rating  \n",
       "1448  [BollywoodDance]                       [DilSe]       [9.4]  \n",
       "693   [BollywoodDance]                    [HighJack]       [9.5]  \n",
       "315   [BollywoodDance]                     [TumBin2]       [9.0]  \n",
       "1443    [BollywoodSad]  [GoliyonKiRasleelaRam-leela]       [9.5]  "
      ]
     },
     "execution_count": 10,
     "metadata": {},
     "output_type": "execute_result"
    }
   ],
   "source": [
    "df.sample(4)"
   ]
  },
  {
   "cell_type": "code",
   "execution_count": 11,
   "id": "1a7efaeb",
   "metadata": {},
   "outputs": [],
   "source": [
    "df['tags']=df['Singer/Artists']+df['Genre']+df['Album/Movie']+df['User-Rating']"
   ]
  },
  {
   "cell_type": "code",
   "execution_count": 12,
   "id": "f503417f",
   "metadata": {},
   "outputs": [
    {
     "data": {
      "text/html": [
       "<div>\n",
       "<style scoped>\n",
       "    .dataframe tbody tr th:only-of-type {\n",
       "        vertical-align: middle;\n",
       "    }\n",
       "\n",
       "    .dataframe tbody tr th {\n",
       "        vertical-align: top;\n",
       "    }\n",
       "\n",
       "    .dataframe thead th {\n",
       "        text-align: right;\n",
       "    }\n",
       "</style>\n",
       "<table border=\"1\" class=\"dataframe\">\n",
       "  <thead>\n",
       "    <tr style=\"text-align: right;\">\n",
       "      <th></th>\n",
       "      <th>Song-Name</th>\n",
       "      <th>Singer/Artists</th>\n",
       "      <th>Genre</th>\n",
       "      <th>Album/Movie</th>\n",
       "      <th>User-Rating</th>\n",
       "      <th>tags</th>\n",
       "    </tr>\n",
       "  </thead>\n",
       "  <tbody>\n",
       "    <tr>\n",
       "      <th>2286</th>\n",
       "      <td>Tumhen Pa Ke Humne Jahan Pa Liya</td>\n",
       "      <td>[AshaBhosle, MohammedRafi]</td>\n",
       "      <td>[BollywoodRomantic]</td>\n",
       "      <td>[GehraDaag]</td>\n",
       "      <td>[8.6]</td>\n",
       "      <td>[AshaBhosle, MohammedRafi, BollywoodRomantic, ...</td>\n",
       "    </tr>\n",
       "    <tr>\n",
       "      <th>728</th>\n",
       "      <td>Anarkali Disco Chali</td>\n",
       "      <td>[MamtaSharma, SukhwinderSingh]</td>\n",
       "      <td>[BollywoodDance]</td>\n",
       "      <td>[Housefull2]</td>\n",
       "      <td>[8.8]</td>\n",
       "      <td>[MamtaSharma, SukhwinderSingh, BollywoodDance,...</td>\n",
       "    </tr>\n",
       "    <tr>\n",
       "      <th>1790</th>\n",
       "      <td>Seena Pada</td>\n",
       "      <td>[ShreyaGhoshal, UditNarayan]</td>\n",
       "      <td>[BollywoodSad]</td>\n",
       "      <td>[Saaya]</td>\n",
       "      <td>[9.1]</td>\n",
       "      <td>[ShreyaGhoshal, UditNarayan, BollywoodSad, Saa...</td>\n",
       "    </tr>\n",
       "    <tr>\n",
       "      <th>2390</th>\n",
       "      <td>Nazar Mein Hai Chehra</td>\n",
       "      <td>[LuckyAli]</td>\n",
       "      <td>[BollywoodDance]</td>\n",
       "      <td>[GoodLuck]</td>\n",
       "      <td>[9.5]</td>\n",
       "      <td>[LuckyAli, BollywoodDance, GoodLuck, 9.5]</td>\n",
       "    </tr>\n",
       "  </tbody>\n",
       "</table>\n",
       "</div>"
      ],
      "text/plain": [
       "                             Song-Name                  Singer/Artists  \\\n",
       "2286  Tumhen Pa Ke Humne Jahan Pa Liya      [AshaBhosle, MohammedRafi]   \n",
       "728               Anarkali Disco Chali  [MamtaSharma, SukhwinderSingh]   \n",
       "1790                        Seena Pada    [ShreyaGhoshal, UditNarayan]   \n",
       "2390             Nazar Mein Hai Chehra                      [LuckyAli]   \n",
       "\n",
       "                    Genre   Album/Movie User-Rating  \\\n",
       "2286  [BollywoodRomantic]   [GehraDaag]       [8.6]   \n",
       "728      [BollywoodDance]  [Housefull2]       [8.8]   \n",
       "1790       [BollywoodSad]       [Saaya]       [9.1]   \n",
       "2390     [BollywoodDance]    [GoodLuck]       [9.5]   \n",
       "\n",
       "                                                   tags  \n",
       "2286  [AshaBhosle, MohammedRafi, BollywoodRomantic, ...  \n",
       "728   [MamtaSharma, SukhwinderSingh, BollywoodDance,...  \n",
       "1790  [ShreyaGhoshal, UditNarayan, BollywoodSad, Saa...  \n",
       "2390          [LuckyAli, BollywoodDance, GoodLuck, 9.5]  "
      ]
     },
     "execution_count": 12,
     "metadata": {},
     "output_type": "execute_result"
    }
   ],
   "source": [
    "df.sample(4)"
   ]
  },
  {
   "cell_type": "code",
   "execution_count": 13,
   "id": "2dcb68de",
   "metadata": {},
   "outputs": [],
   "source": [
    "df=df.drop(columns=['Singer/Artists','Genre','Album/Movie','User-Rating'])"
   ]
  },
  {
   "cell_type": "code",
   "execution_count": 14,
   "id": "aa89e0f7",
   "metadata": {},
   "outputs": [
    {
     "data": {
      "text/html": [
       "<div>\n",
       "<style scoped>\n",
       "    .dataframe tbody tr th:only-of-type {\n",
       "        vertical-align: middle;\n",
       "    }\n",
       "\n",
       "    .dataframe tbody tr th {\n",
       "        vertical-align: top;\n",
       "    }\n",
       "\n",
       "    .dataframe thead th {\n",
       "        text-align: right;\n",
       "    }\n",
       "</style>\n",
       "<table border=\"1\" class=\"dataframe\">\n",
       "  <thead>\n",
       "    <tr style=\"text-align: right;\">\n",
       "      <th></th>\n",
       "      <th>Song-Name</th>\n",
       "      <th>tags</th>\n",
       "    </tr>\n",
       "  </thead>\n",
       "  <tbody>\n",
       "    <tr>\n",
       "      <th>1939</th>\n",
       "      <td>Main Hoon Deewana Tera</td>\n",
       "      <td>[Anjjan, ArijitSingh, MeetBros, BollywoodDance...</td>\n",
       "    </tr>\n",
       "    <tr>\n",
       "      <th>1114</th>\n",
       "      <td>Albela Sajan</td>\n",
       "      <td>[KanikaJoshi, KunalPandit, PrithviGandharva, R...</td>\n",
       "    </tr>\n",
       "    <tr>\n",
       "      <th>1503</th>\n",
       "      <td>Zinda</td>\n",
       "      <td>[SunidhiChauhan, Bollywood, NaamShabana, 9.6]</td>\n",
       "    </tr>\n",
       "    <tr>\n",
       "      <th>883</th>\n",
       "      <td>Kasam Ki Kasam</td>\n",
       "      <td>[K.S.Chithra, Shaan, BollywoodRomanticSad, Mai...</td>\n",
       "    </tr>\n",
       "  </tbody>\n",
       "</table>\n",
       "</div>"
      ],
      "text/plain": [
       "                   Song-Name  \\\n",
       "1939  Main Hoon Deewana Tera   \n",
       "1114            Albela Sajan   \n",
       "1503                   Zinda   \n",
       "883           Kasam Ki Kasam   \n",
       "\n",
       "                                                   tags  \n",
       "1939  [Anjjan, ArijitSingh, MeetBros, BollywoodDance...  \n",
       "1114  [KanikaJoshi, KunalPandit, PrithviGandharva, R...  \n",
       "1503      [SunidhiChauhan, Bollywood, NaamShabana, 9.6]  \n",
       "883   [K.S.Chithra, Shaan, BollywoodRomanticSad, Mai...  "
      ]
     },
     "execution_count": 14,
     "metadata": {},
     "output_type": "execute_result"
    }
   ],
   "source": [
    "df.sample(4)"
   ]
  },
  {
   "cell_type": "code",
   "execution_count": 15,
   "id": "2cded08e",
   "metadata": {},
   "outputs": [],
   "source": [
    "df['tags'] = df['tags'].apply(lambda x: \" \".join(x))\n"
   ]
  },
  {
   "cell_type": "code",
   "execution_count": 16,
   "id": "de947d2a",
   "metadata": {},
   "outputs": [
    {
     "data": {
      "text/html": [
       "<div>\n",
       "<style scoped>\n",
       "    .dataframe tbody tr th:only-of-type {\n",
       "        vertical-align: middle;\n",
       "    }\n",
       "\n",
       "    .dataframe tbody tr th {\n",
       "        vertical-align: top;\n",
       "    }\n",
       "\n",
       "    .dataframe thead th {\n",
       "        text-align: right;\n",
       "    }\n",
       "</style>\n",
       "<table border=\"1\" class=\"dataframe\">\n",
       "  <thead>\n",
       "    <tr style=\"text-align: right;\">\n",
       "      <th></th>\n",
       "      <th>Song-Name</th>\n",
       "      <th>tags</th>\n",
       "    </tr>\n",
       "  </thead>\n",
       "  <tbody>\n",
       "    <tr>\n",
       "      <th>1</th>\n",
       "      <td>Aankh Marey</td>\n",
       "      <td>KumarSanu MikaSingh NehaKakkar BollywoodDance ...</td>\n",
       "    </tr>\n",
       "    <tr>\n",
       "      <th>2</th>\n",
       "      <td>Coca Cola</td>\n",
       "      <td>NehaKakkar TonyKakkar BollywoodDanceRomantic L...</td>\n",
       "    </tr>\n",
       "    <tr>\n",
       "      <th>3</th>\n",
       "      <td>Apna Time Aayega</td>\n",
       "      <td>RanveerSingh BollywoodDance GullyBoy 9.7</td>\n",
       "    </tr>\n",
       "    <tr>\n",
       "      <th>4</th>\n",
       "      <td>Mungda</td>\n",
       "      <td>JyoticaTangri Shaan SubhroGanguly BollywoodDan...</td>\n",
       "    </tr>\n",
       "    <tr>\n",
       "      <th>5</th>\n",
       "      <td>Tere Bin</td>\n",
       "      <td>AseesKaur RahatFatehAliKhan TanishkBagchi Boll...</td>\n",
       "    </tr>\n",
       "  </tbody>\n",
       "</table>\n",
       "</div>"
      ],
      "text/plain": [
       "          Song-Name                                               tags\n",
       "1       Aankh Marey  KumarSanu MikaSingh NehaKakkar BollywoodDance ...\n",
       "2         Coca Cola  NehaKakkar TonyKakkar BollywoodDanceRomantic L...\n",
       "3  Apna Time Aayega           RanveerSingh BollywoodDance GullyBoy 9.7\n",
       "4            Mungda  JyoticaTangri Shaan SubhroGanguly BollywoodDan...\n",
       "5          Tere Bin  AseesKaur RahatFatehAliKhan TanishkBagchi Boll..."
      ]
     },
     "execution_count": 16,
     "metadata": {},
     "output_type": "execute_result"
    }
   ],
   "source": [
    "df.head()"
   ]
  },
  {
   "cell_type": "code",
   "execution_count": 17,
   "id": "7138d2cd",
   "metadata": {},
   "outputs": [],
   "source": [
    "df['tags']=df['tags'].apply(preprocess.stem)"
   ]
  },
  {
   "cell_type": "code",
   "execution_count": 18,
   "id": "84433bcd",
   "metadata": {},
   "outputs": [
    {
     "data": {
      "text/html": [
       "<div>\n",
       "<style scoped>\n",
       "    .dataframe tbody tr th:only-of-type {\n",
       "        vertical-align: middle;\n",
       "    }\n",
       "\n",
       "    .dataframe tbody tr th {\n",
       "        vertical-align: top;\n",
       "    }\n",
       "\n",
       "    .dataframe thead th {\n",
       "        text-align: right;\n",
       "    }\n",
       "</style>\n",
       "<table border=\"1\" class=\"dataframe\">\n",
       "  <thead>\n",
       "    <tr style=\"text-align: right;\">\n",
       "      <th></th>\n",
       "      <th>Song-Name</th>\n",
       "      <th>tags</th>\n",
       "    </tr>\n",
       "  </thead>\n",
       "  <tbody>\n",
       "    <tr>\n",
       "      <th>1050</th>\n",
       "      <td>Safarnama</td>\n",
       "      <td>luckyali bollywoodd tamasha 9.5</td>\n",
       "    </tr>\n",
       "    <tr>\n",
       "      <th>1521</th>\n",
       "      <td>Rabba Main Toh Mar Gaya Oye</td>\n",
       "      <td>shahidmallya bollywoodromant mausam 9.6</td>\n",
       "    </tr>\n",
       "    <tr>\n",
       "      <th>1300</th>\n",
       "      <td>Aise Na Mujhe Tum Dekho</td>\n",
       "      <td>kishorekumar bollywoodromant darlingdarl 9.3</td>\n",
       "    </tr>\n",
       "    <tr>\n",
       "      <th>721</th>\n",
       "      <td>Black Jama Hai</td>\n",
       "      <td>sukhwindersingh bollywood raid 9.3</td>\n",
       "    </tr>\n",
       "  </tbody>\n",
       "</table>\n",
       "</div>"
      ],
      "text/plain": [
       "                        Song-Name  \\\n",
       "1050                    Safarnama   \n",
       "1521  Rabba Main Toh Mar Gaya Oye   \n",
       "1300      Aise Na Mujhe Tum Dekho   \n",
       "721                Black Jama Hai   \n",
       "\n",
       "                                              tags  \n",
       "1050               luckyali bollywoodd tamasha 9.5  \n",
       "1521       shahidmallya bollywoodromant mausam 9.6  \n",
       "1300  kishorekumar bollywoodromant darlingdarl 9.3  \n",
       "721             sukhwindersingh bollywood raid 9.3  "
      ]
     },
     "execution_count": 18,
     "metadata": {},
     "output_type": "execute_result"
    }
   ],
   "source": [
    "df.sample(4)"
   ]
  },
  {
   "cell_type": "code",
   "execution_count": 19,
   "id": "406ce1b9",
   "metadata": {},
   "outputs": [
    {
     "data": {
      "text/plain": [
       "'kumarsanu mikasingh nehakakkar bollywoodd simmba 8.8'"
      ]
     },
     "execution_count": 19,
     "metadata": {},
     "output_type": "execute_result"
    }
   ],
   "source": [
    "df.loc[1, 'tags']"
   ]
  },
  {
   "cell_type": "code",
   "execution_count": 20,
   "id": "a4e05e09",
   "metadata": {},
   "outputs": [],
   "source": [
    "cv = CountVectorizer(max_features=5000,stop_words='english')"
   ]
  },
  {
   "cell_type": "code",
   "execution_count": 21,
   "id": "a79ee72c",
   "metadata": {},
   "outputs": [],
   "source": [
    "vector = cv.fit_transform(df['tags']).toarray()"
   ]
  },
  {
   "cell_type": "code",
   "execution_count": 22,
   "id": "6be0b114",
   "metadata": {},
   "outputs": [
    {
     "data": {
      "text/plain": [
       "(2407, 1696)"
      ]
     },
     "execution_count": 22,
     "metadata": {},
     "output_type": "execute_result"
    }
   ],
   "source": [
    "vector.shape"
   ]
  },
  {
   "cell_type": "code",
   "execution_count": 23,
   "id": "d52f2919",
   "metadata": {},
   "outputs": [],
   "source": [
    "words=cv.get_feature_names_out()\n"
   ]
  },
  {
   "cell_type": "code",
   "execution_count": 24,
   "id": "046ac5e2",
   "metadata": {},
   "outputs": [
    {
     "data": {
      "text/plain": [
       "array(['09', '10', '13', ..., 'zindaginamilegidobara',\n",
       "       'zindagiyehzindagi', 'zubeengarg'], dtype=object)"
      ]
     },
     "execution_count": 24,
     "metadata": {},
     "output_type": "execute_result"
    }
   ],
   "source": [
    "words"
   ]
  },
  {
   "cell_type": "code",
   "execution_count": 25,
   "id": "a09ced50",
   "metadata": {},
   "outputs": [],
   "source": [
    "similarity = cosine_similarity(vector)"
   ]
  },
  {
   "cell_type": "code",
   "execution_count": 26,
   "id": "163f25c2",
   "metadata": {},
   "outputs": [
    {
     "data": {
      "text/plain": [
       "(2407, 2407)"
      ]
     },
     "execution_count": 26,
     "metadata": {},
     "output_type": "execute_result"
    }
   ],
   "source": [
    "similarity.shape"
   ]
  },
  {
   "cell_type": "code",
   "execution_count": 27,
   "id": "f417bc66",
   "metadata": {},
   "outputs": [
    {
     "name": "stdout",
     "output_type": "stream",
     "text": [
      "Gali Gali\n",
      "O Janiya\n",
      "Morni Banke\n",
      "Cheez Badi\n",
      "Aashiq Banaya Aapne\n"
     ]
    }
   ],
   "source": [
    "preprocess.recommend(df,similarity,'Pyar De Pyar Le')"
   ]
  },
  {
   "cell_type": "code",
   "execution_count": 28,
   "id": "8e9c5f2c",
   "metadata": {},
   "outputs": [],
   "source": [
    "pickle.dump(df,open('Song_List.pkl','wb'))\n",
    "pickle.dump(similarity,open('Similarity.pkl','wb'))"
   ]
  },
  {
   "cell_type": "code",
   "execution_count": null,
   "id": "2b06df3d",
   "metadata": {},
   "outputs": [],
   "source": []
  }
 ],
 "metadata": {
  "kernelspec": {
   "display_name": "Python 3 (ipykernel)",
   "language": "python",
   "name": "python3"
  },
  "language_info": {
   "codemirror_mode": {
    "name": "ipython",
    "version": 3
   },
   "file_extension": ".py",
   "mimetype": "text/x-python",
   "name": "python",
   "nbconvert_exporter": "python",
   "pygments_lexer": "ipython3",
   "version": "3.10.9"
  }
 },
 "nbformat": 4,
 "nbformat_minor": 5
}
